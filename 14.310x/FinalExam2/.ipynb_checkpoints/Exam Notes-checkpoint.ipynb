{
 "cells": [
  {
   "cell_type": "markdown",
   "metadata": {},
   "source": [
    "**Topics:**\n",
    "\n",
    "- Fisher exact test\n",
    "- Neyman analysis (ATE)\n",
    "- OVB & endogeneity\n",
    "- Difference in differences\n",
    "- Instrumental variables\n",
    "- Probability\n",
    "    - Distributions\n",
    "    - Combinations & permutations\n",
    "- Statistics\n",
    "    - Test statistic\n",
    "    - Type 1 & 2 errors\n",
    "    - Confidence intervals"
   ]
  },
  {
   "cell_type": "code",
   "execution_count": 2,
   "metadata": {},
   "outputs": [],
   "source": [
    "import numpy as np\n",
    "import matplotlib.pyplot as plt"
   ]
  },
  {
   "cell_type": "markdown",
   "metadata": {},
   "source": [
    "## Statistics\n",
    "\n",
    "### Test Statistic\n",
    "\n",
    "What is a test statistic?\n",
    "\n",
    "### p-value\n",
    "\n",
    "What is a p-value?\n",
    "\n",
    "When can we reject the null hypothesis at the 5% level? When p-value is 0.05 or lower?"
   ]
  },
  {
   "cell_type": "markdown",
   "metadata": {},
   "source": [
    "### Fisher Exact Test\n",
    "\n",
    "Calculates the p-value empirically (rather than theoretically from a probability distribution).\n",
    "\n",
    "Exact tests calculate the empirical probability of getting an outcome as different or more from the null hypothesis as the outcome you observed in your data. That is the exact p-value.\n",
    "\n",
    "When to use? \n",
    "\n",
    "- Two nominal variables (treatment/control, and measured effect).\n",
    "- Small sample sizes, or \n",
    "\n",
    "Comparison to Chi-Square: exact calculation of significance value, while chi-squared test provides an approximation of significance value based on sampling distribution (= chi-squared distribution). Chi-squared is inadequate when sample sizes are small, or the data are very unequally distributed among cells of the table.\n",
    "\n",
    "#### Compute value of test statistic:\n",
    "\n",
    "$\\bar{\\tau} = |\\bar{Y}_{T}^{obs} - \\bar{Y}_{C}^{obs}|$\n",
    "\n",
    "Example:\n",
    "\n",
    "$|\\tfrac{Y_2^{obs}+Y_6^{obs}+Y_7^{obs}+Y_8^{obs}}{4} - \\tfrac{Y_1^{obs}+Y_3^{obs}+Y_4^{obs}+Y_5^{obs}}{4}| = 0.19425$\n",
    "\n",
    "#### Compute p-value (of test statistic?):\n",
    "\n",
    "$\\dfrac{\\textrm{# test statistics computed for all potential treatment assignments larger than observed test statistic}}{\\textrm{# potential outcomes}}$\n",
    "\n",
    "#### Python & R implementations:\n",
    "Python: `scipy.stats.fisher_exact` for 2x2 contingency table [StackOverflow](https://stackoverflow.com/questions/25368284/fishers-exact-test-for-bigger-than-2-by-2-contingency-table)\n",
    "\n",
    "R: `fisher.test` for nxm table [Docs](https://stat.ethz.ch/R-manual/R-devel/library/stats/html/fisher.test.html)\n",
    "\n",
    "#### Notes\n",
    "\n",
    "http://www.biostathandbook.com/fishers.html"
   ]
  },
  {
   "cell_type": "code",
   "execution_count": 27,
   "metadata": {},
   "outputs": [
    {
     "name": "stdout",
     "output_type": "stream",
     "text": [
      "p-value: 0.6643639131198411\n",
      "p-value: 0.5490706532964028\n",
      "p-value: 0.000999000999000999\n"
     ]
    }
   ],
   "source": [
    "import rpy2.robjects.numpy2ri\n",
    "from rpy2.robjects.packages import importr\n",
    "rpy2.robjects.numpy2ri.activate()\n",
    "\n",
    "stats = importr('stats')\n",
    "\n",
    "m = np.array([[4,4],[4,5],[10,6]])\n",
    "res = stats.fisher_test(m)\n",
    "print('p-value: {}'.format(res[0][0]))\n",
    "\n",
    "m = np.array([[15, 8],[20, 5],[14, 7], [6, 1]])\n",
    "res = stats.fisher_test(m)\n",
    "print('p-value: {}'.format(res[0][0]))\n",
    "\n",
    "# Couldn't get this to work\n",
    "m = np.array([\n",
    "    [1, 850, 150],\n",
    "    [1, 990, 10],\n",
    "    [1, 1000, 0],\n",
    "    [1, 760, 240],\n",
    "    [0, 260, 740],\n",
    "    [0, 450, 550],\n",
    "    [0, 970, 30],\n",
    "    [0, 720, 280]\n",
    "])\n",
    "res = stats.fisher_test(m)\n",
    "#res = stats.fisher_test(m, simulate_p_value = True, B = 1000)\n",
    "print('p-value: {}'.format(res[0][0]))"
   ]
  },
  {
   "cell_type": "markdown",
   "metadata": {},
   "source": [
    "### Neyman Analysis\n",
    "\n",
    "When to use Neyman analysis?"
   ]
  },
  {
   "cell_type": "markdown",
   "metadata": {},
   "source": [
    "## Probability\n",
    "\n",
    "\n",
    "\n",
    "### Distributions\n",
    "\n",
    "**Bernoulli:** discrete probability distribution of r.v. which takes value 1 with probability *p</t>* and value 0 with probability *q = 1 - p*. Special case of binomial distribution where a single trial is conducted.\n",
    "\n",
    "**Binomial:** number successes *k</t>* in number of trials/draws *n</t>* drawn with replacement from population of size *N</t>* with probability of success *p</t>*.\n",
    "\n",
    "**Geometric:** number *X</t>* of Bernoulli trials needed to get one success (*shifted geometric*), or the number *Y = X - 1* failures before the first success.\n",
    "\n",
    "**Hypergeometric:** discrete distribution of probability of *k</t>* successes in *n</t>* trials/draws from a population of size *N</t>* that contains exactly *K</t>* objects, without replacement. Contrast to binomial which is with replacement.\n",
    "\n",
    "- Exponential\n",
    "- Poisson\n",
    "- Uniform\n",
    "- Gaussian\n",
    "\n",
    "Relationships:\n",
    "\n",
    "- Binomial v.s. Hypergeometric = successes with replacement v.s. without replacement\n",
    "- Bernoulli v.s. Binomial = one trial v.s. \n",
    "\n",
    "### Combinations & Permutations\n",
    "\n",
    "**Combination:** nCk (n-choose-k) unordered pairs\n",
    "\n",
    "**Permutation:** ordered pairs\n",
    "\n",
    "n^k?"
   ]
  },
  {
   "cell_type": "markdown",
   "metadata": {},
   "source": [
    "### References\n",
    "\n",
    "LaTeX reference: https://kapeli.com/cheat_sheets/LaTeX_Math_Symbols.docset/Contents/Resources/Documents/index"
   ]
  },
  {
   "cell_type": "code",
   "execution_count": 8,
   "metadata": {},
   "outputs": [
    {
     "name": "stdout",
     "output_type": "stream",
     "text": [
      "[1.00000000e+00 9.99999999e-01 9.99999974e-01 9.99999654e-01\n",
      " 9.99996948e-01 9.99980206e-01 9.99899418e-01 9.99582839e-01\n",
      " 9.98547129e-01 9.95660839e-01 9.88704337e-01 9.74030693e-01\n",
      " 9.46685234e-01 9.01315815e-01 8.33876888e-01 7.43594728e-01\n",
      " 6.34264802e-01 5.14060759e-01 3.93699996e-01 2.83656616e-01\n",
      " 1.91591030e-01 1.20981508e-01 7.12657065e-02 3.90926979e-02\n",
      " 1.99398139e-02 9.44470168e-03 4.14920659e-03 1.68859663e-03\n",
      " 6.35808844e-04 2.21198743e-04 7.09987054e-05 2.09897953e-05\n",
      " 5.70476224e-06 1.42233870e-06 3.24510858e-07 6.75575312e-08\n",
      " 1.27907001e-08 2.19385252e-09 3.39340506e-10 4.70802136e-11\n",
      " 5.82127784e-12 6.36491960e-13 6.09553081e-14 5.05226205e-15\n",
      " 3.56924243e-16 2.10629768e-17 1.00987649e-18 3.77808748e-20\n",
      " 1.03436819e-21 1.84285854e-23 1.60304168e-25]\n"
     ]
    },
    {
     "data": {
      "image/png": "[encoded data removed]",
      "text/plain": [
       "<Figure size 432x288 with 1 Axes>"
      ]
     },
     "metadata": {
      "needs_background": "light"
     },
     "output_type": "display_data"
    }
   ],
   "source": [
    "# Exam Questions\n",
    "\n",
    "# Q2\n",
    "from scipy.stats import hypergeom\n",
    "\n",
    "[M, n, N] = [1200, 400, 50]\n",
    "rv = hypergeom(M, n, N)\n",
    "x = np.arange(0, N+1)\n",
    "pmf_wands = rv.pmf(x)\n",
    "\n",
    "fig = plt.figure()\n",
    "ax = fig.add_subplot(111)\n",
    "ax.plot(x, pmf_wands, 'bo')\n",
    "ax.vlines(x, 0, pmf_wands, lw=2)\n",
    "ax.set_xlabel('# of wands in our chosen group')\n",
    "ax.set_ylabel('hypergeom PMF')\n",
    "#plt.show()\n",
    "\n",
    "prb = hypergeom.cdf(x, M, n, N)\n",
    "#print(prb)\n",
    "pval = hypergeom.sf(x-1, M, n, N)\n",
    "print(pval)"
   ]
  },
  {
   "cell_type": "code",
   "execution_count": null,
   "metadata": {},
   "outputs": [],
   "source": []
  }
 ],
 "metadata": {
  "kernelspec": {
   "display_name": "Python 3",
   "language": "python",
   "name": "python3"
  },
  "language_info": {
   "codemirror_mode": {
    "name": "ipython",
    "version": 3
   },
   "file_extension": ".py",
   "mimetype": "text/x-python",
   "name": "python",
   "nbconvert_exporter": "python",
   "pygments_lexer": "ipython3",
   "version": "3.7.0"
  }
 },
 "nbformat": 4,
 "nbformat_minor": 2
}
