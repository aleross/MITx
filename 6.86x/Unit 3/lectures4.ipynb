{
 "cells": [
  {
   "cell_type": "code",
   "execution_count": 2,
   "metadata": {},
   "outputs": [
    {
     "data": {
      "text/plain": [
       "0"
      ]
     },
     "execution_count": 2,
     "metadata": {},
     "output_type": "execute_result"
    }
   ],
   "source": [
    "import numpy as np\n",
    "\n",
    "x = np.array([1, 0])\n",
    "w_0 = -3\n",
    "w = np.array([1, -1])\n",
    "\n",
    "z = w_0 + x @ w\n",
    "y_hat = max(0, z)\n",
    "y_hat"
   ]
  },
  {
   "cell_type": "code",
   "execution_count": 18,
   "metadata": {},
   "outputs": [
    {
     "data": {
      "text/plain": [
       "-2"
      ]
     },
     "execution_count": 18,
     "metadata": {},
     "output_type": "execute_result"
    }
   ],
   "source": [
    "x = np.array([1, 1, 0])\n",
    "w = np.array([-3, 1, -1])\n",
    "\n",
    "x @ w"
   ]
  },
  {
   "cell_type": "code",
   "execution_count": 8,
   "metadata": {},
   "outputs": [
    {
     "data": {
      "text/plain": [
       "0.0"
      ]
     },
     "execution_count": 8,
     "metadata": {},
     "output_type": "execute_result"
    }
   ],
   "source": [
    "np.tanh(0)"
   ]
  },
  {
   "cell_type": "code",
   "execution_count": 11,
   "metadata": {},
   "outputs": [
    {
     "name": "stdout",
     "output_type": "stream",
     "text": [
      "-1.0\n",
      "-1.0\n"
     ]
    }
   ],
   "source": [
    "print(np.tanh(-200000000))\n",
    "print(-np.tanh(200000000))"
   ]
  },
  {
   "cell_type": "code",
   "execution_count": 23,
   "metadata": {},
   "outputs": [
    {
     "data": {
      "text/plain": [
       "1"
      ]
     },
     "execution_count": 23,
     "metadata": {},
     "output_type": "execute_result"
    }
   ],
   "source": [
    "x = np.array([1, 0, 0])\n",
    "w = np.array([2, -1, -1])\n",
    "\n",
    "def activation(z):\n",
    "    return int(z > 0)\n",
    "\n",
    "activation(x @ w)"
   ]
  },
  {
   "cell_type": "code",
   "execution_count": 36,
   "metadata": {},
   "outputs": [
    {
     "name": "stdout",
     "output_type": "stream",
     "text": [
      "-3 -3\n",
      "-3 -3\n",
      "\n",
      "-1 -1\n",
      "7 -9\n",
      "\n",
      "-1 -1\n",
      "-9 7\n",
      "\n"
     ]
    }
   ],
   "source": [
    "x = np.array([[-1, -1], [1, -1], [-1, 1], [1, 1]])\n",
    "x = np.insert(x, 0, 1, axis=1)\n",
    "y = np.array([1, -1, -1, 1])\n",
    "\n",
    "W = [[0, 0, 0],\n",
    "    [1, 2, -2],\n",
    "    [1, -2, 2]]\n",
    "\n",
    "def activation(z):\n",
    "    return 2*z-3\n",
    "\n",
    "for w in W:\n",
    "    w = np.array(w)\n",
    "    y_hat = activation(x @ w)\n",
    "    print(y_hat[0], y_hat[3])\n",
    "    print(y_hat[1], y_hat[2])\n",
    "    print('')"
   ]
  },
  {
   "cell_type": "code",
   "execution_count": 1,
   "metadata": {},
   "outputs": [
    {
     "ename": "NameError",
     "evalue": "name 'np' is not defined",
     "output_type": "error",
     "traceback": [
      "\u001b[0;31m---------------------------------------------------------------------------\u001b[0m",
      "\u001b[0;31mNameError\u001b[0m                                 Traceback (most recent call last)",
      "\u001b[0;32m<ipython-input-1-7c403aaf3bbc>\u001b[0m in \u001b[0;36m<module>\u001b[0;34m\u001b[0m\n\u001b[0;32m----> 1\u001b[0;31m \u001b[0mx\u001b[0m \u001b[0;34m=\u001b[0m \u001b[0mnp\u001b[0m\u001b[0;34m.\u001b[0m\u001b[0marray\u001b[0m\u001b[0;34m(\u001b[0m\u001b[0;34m[\u001b[0m\u001b[0;34m[\u001b[0m\u001b[0;34m-\u001b[0m\u001b[0;36m1\u001b[0m\u001b[0;34m,\u001b[0m \u001b[0;34m-\u001b[0m\u001b[0;36m1\u001b[0m\u001b[0;34m]\u001b[0m\u001b[0;34m,\u001b[0m \u001b[0;34m[\u001b[0m\u001b[0;36m1\u001b[0m\u001b[0;34m,\u001b[0m \u001b[0;34m-\u001b[0m\u001b[0;36m1\u001b[0m\u001b[0;34m]\u001b[0m\u001b[0;34m,\u001b[0m \u001b[0;34m[\u001b[0m\u001b[0;34m-\u001b[0m\u001b[0;36m1\u001b[0m\u001b[0;34m,\u001b[0m \u001b[0;36m1\u001b[0m\u001b[0;34m]\u001b[0m\u001b[0;34m,\u001b[0m \u001b[0;34m[\u001b[0m\u001b[0;36m1\u001b[0m\u001b[0;34m,\u001b[0m \u001b[0;36m1\u001b[0m\u001b[0;34m]\u001b[0m\u001b[0;34m]\u001b[0m\u001b[0;34m)\u001b[0m\u001b[0;34m\u001b[0m\u001b[0;34m\u001b[0m\u001b[0m\n\u001b[0m\u001b[1;32m      2\u001b[0m \u001b[0mx\u001b[0m \u001b[0;34m=\u001b[0m \u001b[0mnp\u001b[0m\u001b[0;34m.\u001b[0m\u001b[0minsert\u001b[0m\u001b[0;34m(\u001b[0m\u001b[0mx\u001b[0m\u001b[0;34m,\u001b[0m \u001b[0;36m0\u001b[0m\u001b[0;34m,\u001b[0m \u001b[0;36m1\u001b[0m\u001b[0;34m,\u001b[0m \u001b[0maxis\u001b[0m\u001b[0;34m=\u001b[0m\u001b[0;36m1\u001b[0m\u001b[0;34m)\u001b[0m\u001b[0;34m\u001b[0m\u001b[0;34m\u001b[0m\u001b[0m\n\u001b[1;32m      3\u001b[0m \u001b[0my\u001b[0m \u001b[0;34m=\u001b[0m \u001b[0mnp\u001b[0m\u001b[0;34m.\u001b[0m\u001b[0marray\u001b[0m\u001b[0;34m(\u001b[0m\u001b[0;34m[\u001b[0m\u001b[0;36m1\u001b[0m\u001b[0;34m,\u001b[0m \u001b[0;34m-\u001b[0m\u001b[0;36m1\u001b[0m\u001b[0;34m,\u001b[0m \u001b[0;34m-\u001b[0m\u001b[0;36m1\u001b[0m\u001b[0;34m,\u001b[0m \u001b[0;36m1\u001b[0m\u001b[0;34m]\u001b[0m\u001b[0;34m)\u001b[0m\u001b[0;34m\u001b[0m\u001b[0;34m\u001b[0m\u001b[0m\n\u001b[1;32m      4\u001b[0m \u001b[0;34m\u001b[0m\u001b[0m\n\u001b[1;32m      5\u001b[0m \u001b[0mW\u001b[0m \u001b[0;34m=\u001b[0m \u001b[0;34m[\u001b[0m\u001b[0;34m[\u001b[0m\u001b[0;36m1\u001b[0m\u001b[0;34m,\u001b[0m \u001b[0;36m1\u001b[0m\u001b[0;34m,\u001b[0m \u001b[0;34m-\u001b[0m\u001b[0;36m1\u001b[0m\u001b[0;34m]\u001b[0m\u001b[0;34m,\u001b[0m \u001b[0;34m[\u001b[0m\u001b[0;36m1\u001b[0m\u001b[0;34m,\u001b[0m \u001b[0;34m-\u001b[0m\u001b[0;36m1\u001b[0m\u001b[0;34m,\u001b[0m \u001b[0;36m1\u001b[0m\u001b[0;34m]\u001b[0m\u001b[0;34m]\u001b[0m\u001b[0;34m\u001b[0m\u001b[0;34m\u001b[0m\u001b[0m\n",
      "\u001b[0;31mNameError\u001b[0m: name 'np' is not defined"
     ]
    }
   ],
   "source": [
    "x = np.array([[-1, -1], [1, -1], [-1, 1], [1, 1]])\n",
    "x = np.insert(x, 0, 1, axis=1)\n",
    "y = np.array([1, -1, -1, 1])\n",
    "\n",
    "W = [[1, 1, -1], [1, -1, 1]]\n",
    "\n",
    "def activation(z):\n",
    "    return 2*z-3\n",
    "\n",
    "\n",
    "print(x.shape)\n",
    "\n",
    "for i in range(len(W)):\n",
    "    w = np.array(W[i])\n",
    "    \n",
    "    print('\\n Linear')\n",
    "    y_hat = activation(x @ w)\n",
    "    \n",
    "    print(f'f{i+1} 1: {y_hat[0], y_hat[3]}')\n",
    "    print(f'f{i+1} -1: {y_hat[1], y_hat[2]}')\n",
    "    print('')\n",
    "    \n",
    "    print('\\n tanh')\n",
    "    y_hat = np.tanh(x @ w)\n",
    "    print(f'f{i+1} 1: {y_hat[0], y_hat[3]}')\n",
    "    print(f'f{i+1} -1: {y_hat[1], y_hat[2]}')\n",
    "    print('')\n",
    "    \n",
    "    print('\\n ReLU')\n",
    "    y_hat = np.maximum(x @ w, 0)\n",
    "    print(f'f{i+1} 1: {y_hat[0], y_hat[3]}')\n",
    "    print(f'f{i+1} -1: {y_hat[1], y_hat[2]}')\n",
    "    \n",
    "    print('\\n Linear2')\n",
    "    y_hat = x @ w\n",
    "    print(f'f{i+1} 1: {y_hat[0], y_hat[3]}')\n",
    "    print(f'f{i+1} -1: {y_hat[1], y_hat[2]}')"
   ]
  },
  {
   "cell_type": "code",
   "execution_count": 6,
   "metadata": {},
   "outputs": [
    {
     "data": {
      "text/plain": [
       "1.0"
      ]
     },
     "execution_count": 6,
     "metadata": {},
     "output_type": "execute_result"
    }
   ],
   "source": [
    "# LSTM\n",
    "\n",
    "import math\n",
    "\n",
    "def sigmoid(x):\n",
    "  return 1 / (1 + math.exp(-x))\n",
    "\n",
    "W = 1\n",
    "x = 5\n",
    "c_0 = 1\n",
    "h_0 = 1\n",
    "\n",
    "f = round(sigmoid(W * h_0 + W * x))\n",
    "i = round(sigmoid(W * h_0 + W * x))\n",
    "o = round(sigmoid(W * h_0 + W * x))\n",
    "\n",
    "c = f * c_0 + i * round(np.tanh(W * h_0 + W * x))\n",
    "h = o * round(np.tanh(c))\n",
    "h"
   ]
  },
  {
   "cell_type": "code",
   "execution_count": 12,
   "metadata": {},
   "outputs": [
    {
     "name": "stdout",
     "output_type": "stream",
     "text": [
      "norm: 3.7416573867739413\n",
      "size: 3\n",
      "shape: (1, 3)\n"
     ]
    }
   ],
   "source": [
    "from numpy.linalg import norm\n",
    "\n",
    "a = np.array([[1,2,3]])\n",
    "\n",
    "print(f'norm: {norm(a)}')\n",
    "print(f'size: {a.size}')\n",
    "print(f'shape: {a.shape}')"
   ]
  }
 ],
 "metadata": {
  "kernelspec": {
   "display_name": "Python 3",
   "language": "python",
   "name": "python3"
  },
  "language_info": {
   "codemirror_mode": {
    "name": "ipython",
    "version": 3
   },
   "file_extension": ".py",
   "mimetype": "text/x-python",
   "name": "python",
   "nbconvert_exporter": "python",
   "pygments_lexer": "ipython3",
   "version": "3.6.8"
  }
 },
 "nbformat": 4,
 "nbformat_minor": 2
}
