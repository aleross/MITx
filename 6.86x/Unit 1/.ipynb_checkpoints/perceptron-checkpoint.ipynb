{
 "cells": [
  {
   "cell_type": "code",
   "execution_count": null,
   "metadata": {},
   "outputs": [],
   "source": [
    "def perceptron(t = 1, x, y):\n",
    "    theta = []\n",
    "    theta_0\n",
    "    for c in range(t):\n",
    "        for i in range(len(x)):\n",
    "            if y[i] * (theta * x[i] + theta_0) <= 0:\n",
    "                theta = theta + y[i] * x[i]\n",
    "                theta_0 = theta_0 + y[i]\n",
    "                \n",
    "    return theta, theta_0"
   ]
  }
 ],
 "metadata": {
  "kernelspec": {
   "display_name": "Python 3",
   "language": "python",
   "name": "python3"
  },
  "language_info": {
   "codemirror_mode": {
    "name": "ipython",
    "version": 3
   },
   "file_extension": ".py",
   "mimetype": "text/x-python",
   "name": "python",
   "nbconvert_exporter": "python",
   "pygments_lexer": "ipython3",
   "version": "3.6.8"
  }
 },
 "nbformat": 4,
 "nbformat_minor": 2
}
