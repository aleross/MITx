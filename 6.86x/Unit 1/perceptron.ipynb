{
 "cells": [
  {
   "cell_type": "code",
   "execution_count": 36,
   "metadata": {},
   "outputs": [],
   "source": [
    "import numpy as np\n",
    "\n",
    "def array_to_string(array):\n",
    "    lists = []\n",
    "    for i in array:\n",
    "        lists.append(np.array2string(i, separator=',', formatter={'float_kind':lambda x: \"%.1f\" % x}))\n",
    "        \n",
    "    return '[' + ','.join(lists) + ']'\n",
    "\n",
    "def perceptron(x, y, t = 1, init = None):\n",
    "    if init is None:\n",
    "        theta = np.zeros(x[0].shape[0])\n",
    "        theta_0 = 0\n",
    "    else:\n",
    "        theta = np.array(init[0])\n",
    "        theta_0 = init[1]\n",
    "        \n",
    "    progression = []\n",
    "    mistakes = 0\n",
    "    for c in range(t):\n",
    "        for i in range(len(x)):\n",
    "            if y[i] * ((theta @ x[i]) + theta_0) <= 0:\n",
    "                print('Mistake:', x[i])\n",
    "                theta = theta + y[i] * x[i]\n",
    "                theta_0 = theta_0 + y[i]\n",
    "                progression.append(theta)\n",
    "                mistakes += 1\n",
    "                \n",
    "    print('Theta:', theta)\n",
    "    print('Theta_0:', theta_0)\n",
    "    print('Mistakes:', mistakes)\n",
    "    print('Progression:', array_to_string(progression))\n",
    "                \n",
    "    return theta, theta_0, progression\n",
    "\n",
    "def perceptron_origin(x, y, t = 1):\n",
    "    theta = np.zeros(x[0].shape[0])\n",
    "    progression = []\n",
    "    mistakes = 0\n",
    "    for c in range(t):\n",
    "        for i in range(len(x)):\n",
    "            if y[i] * (theta @ x[i]) <= 0:\n",
    "                theta = theta + y[i] * x[i]\n",
    "                progression.append(theta)\n",
    "                mistakes += 1\n",
    "                \n",
    "    print('Theta:', theta)\n",
    "    print('Mistakes:', mistakes)\n",
    "    print('Progression:', array_to_string(progression))\n",
    "                \n",
    "    return theta, progression"
   ]
  },
  {
   "cell_type": "code",
   "execution_count": 80,
   "metadata": {},
   "outputs": [
    {
     "name": "stdout",
     "output_type": "stream",
     "text": [
      "Theta: [-2.   0.5]\n",
      "Mistakes: 2\n",
      "Progression: [[-1.0 -1.0],[-2.0 0.5]]\n"
     ]
    }
   ],
   "source": [
    "x = np.array([[-1, -1], [1, 0], [-1, 1.5]])\n",
    "y = np.array([1, -1, 1])\n",
    "\n",
    "perceptron_origin(x, y, 5);"
   ]
  },
  {
   "cell_type": "code",
   "execution_count": 74,
   "metadata": {},
   "outputs": [
    {
     "name": "stdout",
     "output_type": "stream",
     "text": [
      "Theta: [-1.  0.]\n",
      "Mistakes: 1\n",
      "Progression: [[0 0],[-1.0 0.0]]\n"
     ]
    }
   ],
   "source": [
    "x = np.array([[1, 0], [-1, 1.5], [-1, -1]])\n",
    "y = np.array([-1, 1, 1])\n",
    "\n",
    "perceptron_origin(x, y, 3);"
   ]
  },
  {
   "cell_type": "code",
   "execution_count": 93,
   "metadata": {},
   "outputs": [
    {
     "name": "stdout",
     "output_type": "stream",
     "text": [
      "Theta: [-6  5]\n",
      "Mistakes: 6\n",
      "Progression: [[-1,-1],[-2, 9],[-3, 8],[-4, 7],[-5, 6],[-6, 5]]\n"
     ]
    }
   ],
   "source": [
    "x = np.array([[-1, -1], [1, 0], [-1, 10]])\n",
    "y = np.array([1, -1, 1])\n",
    "\n",
    "perceptron_origin(x, y, 10);"
   ]
  },
  {
   "cell_type": "code",
   "execution_count": 94,
   "metadata": {},
   "outputs": [
    {
     "name": "stdout",
     "output_type": "stream",
     "text": [
      "Theta: [-1  0]\n",
      "Mistakes: 1\n",
      "Progression: [[-1, 0]]\n"
     ]
    }
   ],
   "source": [
    "x = np.array([[1, 0], [-1, 10], [-1, -1]])\n",
    "y = np.array([-1, 1, 1])\n",
    "\n",
    "perceptron_origin(x, y, 10);"
   ]
  },
  {
   "cell_type": "code",
   "execution_count": 106,
   "metadata": {},
   "outputs": [
    {
     "name": "stdout",
     "output_type": "stream",
     "text": [
      "Theta: [-4  2]\n",
      "Theta_0: -2\n",
      "Mistakes: 4\n",
      "Progression: [[-4, 2],[-3, 3],[-5, 1],[-4, 2]]\n"
     ]
    }
   ],
   "source": [
    "x = np.array([[-4, 2], [-2, 1], [-1, -1], [2, 2], [1, -2]])\n",
    "y = np.array([1, 1, -1, -1, -1])\n",
    "\n",
    "perceptron(x, y, 2);"
   ]
  },
  {
   "cell_type": "code",
   "execution_count": 31,
   "metadata": {},
   "outputs": [
    {
     "name": "stdout",
     "output_type": "stream",
     "text": [
      "Theta: [-1  1]\n",
      "Theta_0: -2\n",
      "Mistakes: 0\n",
      "Progression: []\n"
     ]
    }
   ],
   "source": [
    "x = np.array([[-4, 2], [-2, 1], [-1, -1], [2, 2], [1, -2]])\n",
    "y = np.array([1, 1, -1, -1, -1])\n",
    "\n",
    "init = [[-1, 1], -2]\n",
    "\n",
    "perceptron(x, y, 1, init);"
   ]
  },
  {
   "cell_type": "code",
   "execution_count": 37,
   "metadata": {},
   "outputs": [
    {
     "name": "stdout",
     "output_type": "stream",
     "text": [
      "Mistake: [-1  1]\n",
      "Mistake: [ 1 -1]\n",
      "Mistake: [1 1]\n",
      "Theta: [-1. -1.]\n",
      "Theta_0: 1\n",
      "Mistakes: 3\n",
      "Progression: [[-1.0,1.0],[0.0,0.0],[-1.0,-1.0]]\n"
     ]
    }
   ],
   "source": [
    "x = np.array([[-1, 1], [1, -1], [1, 1], [2, 2]])\n",
    "y = np.array([1, 1, -1, -1])\n",
    "\n",
    "perceptron(x, y, 2);"
   ]
  },
  {
   "cell_type": "code",
   "execution_count": 29,
   "metadata": {},
   "outputs": [
    {
     "name": "stdout",
     "output_type": "stream",
     "text": [
      "Theta: [-1.  1.]\n",
      "Mistakes: 2\n",
      "Progression: [[0.0,1.0],[-1.0,1.0]]\n"
     ]
    }
   ],
   "source": [
    "x = np.array([[0, 1], [-1, 0]])\n",
    "y = np.array([1, 1])\n",
    "\n",
    "perceptron_origin(x, y, 5);"
   ]
  },
  {
   "cell_type": "code",
   "execution_count": 38,
   "metadata": {},
   "outputs": [
    {
     "name": "stdout",
     "output_type": "stream",
     "text": [
      "Theta: [-1.  1. -1.]\n",
      "Mistakes: 3\n",
      "Progression: [[0.0,0.0,-1.0],[-1.0,0.0,-1.0],[-1.0,1.0,-1.0]]\n"
     ]
    }
   ],
   "source": [
    "x = np.array([[0, 0, -1], [-1, 0, 0], [0, 1, 0]])\n",
    "y = np.array([1, 1, 1])\n",
    "\n",
    "perceptron_origin(x, y, 5);"
   ]
  }
 ],
 "metadata": {
  "kernelspec": {
   "display_name": "Python 3",
   "language": "python",
   "name": "python3"
  },
  "language_info": {
   "codemirror_mode": {
    "name": "ipython",
    "version": 3
   },
   "file_extension": ".py",
   "mimetype": "text/x-python",
   "name": "python",
   "nbconvert_exporter": "python",
   "pygments_lexer": "ipython3",
   "version": "3.6.8"
  }
 },
 "nbformat": 4,
 "nbformat_minor": 2
}
