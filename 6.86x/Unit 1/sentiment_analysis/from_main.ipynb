{
 "cells": [
  {
   "cell_type": "code",
   "execution_count": null,
   "metadata": {},
   "outputs": [],
   "source": [
    "# Problem 5\n",
    "thetas_perceptron = p1.perceptron(toy_features, toy_labels, T)\n",
    "thetas_avg_perceptron = p1.average_perceptron(toy_features, toy_labels, T)\n",
    "thetas_pegasos = p1.pegasos(toy_features, toy_labels, T, L)\n",
    "\n",
    "def plot_toy_results(algo_name, thetas):\n",
    "    rounded = [round(theta, 4) for theta in thetas[0]]\n",
    "    print('theta for', algo_name, 'is', ', '.join(map(str, list(rounded))))\n",
    "    print('theta_0 for', algo_name, 'is', str(thetas[1]))\n",
    "    utils.plot_toy_data(algo_name, toy_features, toy_labels, thetas)\n",
    "\n",
    "plot_toy_results('Perceptron', thetas_perceptron)\n",
    "plot_toy_results('Average Perceptron', thetas_avg_perceptron)\n",
    "plot_toy_results('Pegasos', thetas_pegasos)\n",
    "\n",
    "# Problem 7\n",
    "pct_train_accuracy, pct_val_accuracy = \\\n",
    "   p1.classifier_accuracy(p1.perceptron, train_bow_features,val_bow_features,train_labels,val_labels,T=T)\n",
    "print(\"{:35} {:.4f}\".format(\"Training accuracy for perceptron:\", pct_train_accuracy))\n",
    "print(\"{:35} {:.4f}\".format(\"Validation accuracy for perceptron:\", pct_val_accuracy))\n",
    "\n",
    "avg_pct_train_accuracy, avg_pct_val_accuracy = \\\n",
    "   p1.classifier_accuracy(p1.average_perceptron, train_bow_features,val_bow_features,train_labels,val_labels,T=T)\n",
    "print(\"{:43} {:.4f}\".format(\"Training accuracy for average perceptron:\", avg_pct_train_accuracy))\n",
    "print(\"{:43} {:.4f}\".format(\"Validation accuracy for average perceptron:\", avg_pct_val_accuracy))\n",
    "\n",
    "avg_peg_train_accuracy, avg_peg_val_accuracy = \\\n",
    "   p1.classifier_accuracy(p1.pegasos, train_bow_features,val_bow_features,train_labels,val_labels,T=T,L=L)\n",
    "print(\"{:50} {:.4f}\".format(\"Training accuracy for Pegasos:\", avg_peg_train_accuracy))\n",
    "print(\"{:50} {:.4f}\".format(\"Validation accuracy for Pegasos:\", avg_peg_val_accuracy))\n",
    "\n",
    "# Problem 8\n",
    "\n",
    "pct_tune_results = utils.tune_perceptron(Ts, *data)\n",
    "print('perceptron valid:', list(zip(Ts, pct_tune_results[1])))\n",
    "print('best = {:.4f}, T={:.4f}'.format(np.max(pct_tune_results[1]), Ts[np.argmax(pct_tune_results[1])]))\n",
    "\n",
    "avg_pct_tune_results = utils.tune_avg_perceptron(Ts, *data)\n",
    "print('avg perceptron valid:', list(zip(Ts, avg_pct_tune_results[1])))\n",
    "print('best = {:.4f}, T={:.4f}'.format(np.max(avg_pct_tune_results[1]), Ts[np.argmax(avg_pct_tune_results[1])]))\n",
    "\n",
    "# fix values for L and T while tuning Pegasos T and L, respective\n",
    "fix_L = 0.01\n",
    "peg_tune_results_T = utils.tune_pegasos_T(fix_L, Ts, *data)\n",
    "print('Pegasos valid: tune T', list(zip(Ts, peg_tune_results_T[1])))\n",
    "print('best = {:.4f}, T={:.4f}'.format(np.max(peg_tune_results_T[1]), Ts[np.argmax(peg_tune_results_T[1])]))\n",
    "\n",
    "fix_T = Ts[np.argmax(peg_tune_results_T[1])]\n",
    "peg_tune_results_L = utils.tune_pegasos_L(fix_T, Ls, *data)\n",
    "print('Pegasos valid: tune L', list(zip(Ls, peg_tune_results_L[1])))\n",
    "print('best = {:.4f}, L={:.4f}'.format(np.max(peg_tune_results_L[1]), Ls[np.argmax(peg_tune_results_L[1])]))\n",
    "\n",
    "utils.plot_tune_results('Perceptron', 'T', Ts, *pct_tune_results)\n",
    "utils.plot_tune_results('Avg Perceptron', 'T', Ts, *avg_pct_tune_results)\n",
    "utils.plot_tune_results('Pegasos', 'T', Ts, *peg_tune_results_T)\n",
    "utils.plot_tune_results('Pegasos', 'L', Ls, *peg_tune_results_L)"
   ]
  }
 ],
 "metadata": {
  "kernelspec": {
   "display_name": "Python 3",
   "language": "python",
   "name": "python3"
  },
  "language_info": {
   "codemirror_mode": {
    "name": "ipython",
    "version": 3
   },
   "file_extension": ".py",
   "mimetype": "text/x-python",
   "name": "python",
   "nbconvert_exporter": "python",
   "pygments_lexer": "ipython3",
   "version": "3.6.8"
  }
 },
 "nbformat": 4,
 "nbformat_minor": 2
}
