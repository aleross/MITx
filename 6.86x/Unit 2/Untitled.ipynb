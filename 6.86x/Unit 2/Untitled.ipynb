{
 "cells": [
  {
   "cell_type": "code",
   "execution_count": 1,
   "metadata": {},
   "outputs": [],
   "source": [
    "import numpy as np"
   ]
  },
  {
   "cell_type": "code",
   "execution_count": 12,
   "metadata": {},
   "outputs": [
    {
     "name": "stdout",
     "output_type": "stream",
     "text": [
      "(1, 3)\n",
      "(1, 3)\n"
     ]
    }
   ],
   "source": [
    "theta = np.array([0, 1, 2])\n",
    "x = np.array([1, 0, 1])\n",
    "\n",
    "theta.shape = (3,1)\n",
    "x.shape = (3,1)\n",
    "\n",
    "print(theta.T.shape)\n",
    "print(x.T.shape)"
   ]
  },
  {
   "cell_type": "code",
   "execution_count": 11,
   "metadata": {},
   "outputs": [
    {
     "data": {
      "text/plain": [
       "array([[2]])"
      ]
     },
     "execution_count": 11,
     "metadata": {},
     "output_type": "execute_result"
    }
   ],
   "source": [
    "x.T @ theta"
   ]
  },
  {
   "cell_type": "code",
   "execution_count": 20,
   "metadata": {},
   "outputs": [
    {
     "name": "stdout",
     "output_type": "stream",
     "text": [
      "[1.25]\n"
     ]
    }
   ],
   "source": [
    "x = np.array([[1,0,1],[1,1,1],[1,1,-1],[-1,1,1]])\n",
    "y = np.array([2, 2.7, -0.7, 2])\n",
    "theta = np.array([[0, 1, 2]])\n",
    "\n",
    "def hinge_loss(z):\n",
    "    if (z >= 1):\n",
    "        return 0\n",
    "    else:\n",
    "        return 1 - z\n",
    "    \n",
    "cost = 0\n",
    "for i in range(len(x)):\n",
    "    loss = hinge_loss(y[i] - theta @ x[i])\n",
    "    cost += loss\n",
    "    \n",
    "print(cost / 4)"
   ]
  },
  {
   "cell_type": "code",
   "execution_count": 24,
   "metadata": {},
   "outputs": [
    {
     "name": "stdout",
     "output_type": "stream",
     "text": [
      "[0.1475]\n"
     ]
    }
   ],
   "source": [
    "def squared_error_loss(z):\n",
    "    return (z ** 2) / 2\n",
    "    \n",
    "cost = 0\n",
    "for i in range(len(x)):\n",
    "    loss = squared_error_loss(y[i] - theta @ x[i])\n",
    "    cost += loss\n",
    "    \n",
    "print(cost / 4)"
   ]
  },
  {
   "cell_type": "code",
   "execution_count": null,
   "metadata": {},
   "outputs": [],
   "source": []
  }
 ],
 "metadata": {
  "kernelspec": {
   "display_name": "Python 3",
   "language": "python",
   "name": "python3"
  },
  "language_info": {
   "codemirror_mode": {
    "name": "ipython",
    "version": 3
   },
   "file_extension": ".py",
   "mimetype": "text/x-python",
   "name": "python",
   "nbconvert_exporter": "python",
   "pygments_lexer": "ipython3",
   "version": "3.6.8"
  }
 },
 "nbformat": 4,
 "nbformat_minor": 2
}
